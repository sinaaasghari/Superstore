{
 "cells": [
  {
   "cell_type": "code",
   "execution_count": 18,
   "metadata": {},
   "outputs": [],
   "source": [
    "import pandas as pd\n",
    "from scipy import stats"
   ]
  },
  {
   "cell_type": "code",
   "execution_count": 15,
   "metadata": {},
   "outputs": [
    {
     "data": {
      "text/html": [
       "<div>\n",
       "<style scoped>\n",
       "    .dataframe tbody tr th:only-of-type {\n",
       "        vertical-align: middle;\n",
       "    }\n",
       "\n",
       "    .dataframe tbody tr th {\n",
       "        vertical-align: top;\n",
       "    }\n",
       "\n",
       "    .dataframe thead th {\n",
       "        text-align: right;\n",
       "    }\n",
       "</style>\n",
       "<table border=\"1\" class=\"dataframe\">\n",
       "  <thead>\n",
       "    <tr style=\"text-align: right;\">\n",
       "      <th></th>\n",
       "      <th>Product ID</th>\n",
       "      <th>avg(discounted_sales)</th>\n",
       "      <th>avg(discounted_profit)</th>\n",
       "    </tr>\n",
       "  </thead>\n",
       "  <tbody>\n",
       "    <tr>\n",
       "      <th>0</th>\n",
       "      <td>FUR-ADV-10000183</td>\n",
       "      <td>130.683998</td>\n",
       "      <td>-219.115997</td>\n",
       "    </tr>\n",
       "    <tr>\n",
       "      <th>1</th>\n",
       "      <td>FUR-ADV-10000188</td>\n",
       "      <td>12.495000</td>\n",
       "      <td>-13.380000</td>\n",
       "    </tr>\n",
       "    <tr>\n",
       "      <th>2</th>\n",
       "      <td>FUR-ADV-10001283</td>\n",
       "      <td>66.671997</td>\n",
       "      <td>-111.167999</td>\n",
       "    </tr>\n",
       "    <tr>\n",
       "      <th>3</th>\n",
       "      <td>FUR-ADV-10001659</td>\n",
       "      <td>10.260000</td>\n",
       "      <td>-15.780000</td>\n",
       "    </tr>\n",
       "    <tr>\n",
       "      <th>4</th>\n",
       "      <td>FUR-ADV-10001855</td>\n",
       "      <td>10.548000</td>\n",
       "      <td>-8.712000</td>\n",
       "    </tr>\n",
       "  </tbody>\n",
       "</table>\n",
       "</div>"
      ],
      "text/plain": [
       "         Product ID  avg(discounted_sales)  avg(discounted_profit)\n",
       "0  FUR-ADV-10000183             130.683998             -219.115997\n",
       "1  FUR-ADV-10000188              12.495000              -13.380000\n",
       "2  FUR-ADV-10001283              66.671997             -111.167999\n",
       "3  FUR-ADV-10001659              10.260000              -15.780000\n",
       "4  FUR-ADV-10001855              10.548000               -8.712000"
      ]
     },
     "execution_count": 15,
     "metadata": {},
     "output_type": "execute_result"
    }
   ],
   "source": [
    "discounted_orders = pd.read_csv('Result_20.csv')\n",
    "discounted_orders.rename(columns={'avg(Sales)': 'avg(discounted_sales)', 'avg(Profit)': 'avg(discounted_profit)'}, inplace=True)\n",
    "discounted_orders.head()"
   ]
  },
  {
   "cell_type": "code",
   "execution_count": 16,
   "metadata": {},
   "outputs": [
    {
     "data": {
      "text/html": [
       "<div>\n",
       "<style scoped>\n",
       "    .dataframe tbody tr th:only-of-type {\n",
       "        vertical-align: middle;\n",
       "    }\n",
       "\n",
       "    .dataframe tbody tr th {\n",
       "        vertical-align: top;\n",
       "    }\n",
       "\n",
       "    .dataframe thead th {\n",
       "        text-align: right;\n",
       "    }\n",
       "</style>\n",
       "<table border=\"1\" class=\"dataframe\">\n",
       "  <thead>\n",
       "    <tr style=\"text-align: right;\">\n",
       "      <th></th>\n",
       "      <th>Product ID</th>\n",
       "      <th>avg(normal_sales)</th>\n",
       "      <th>avg(normal_profit)</th>\n",
       "    </tr>\n",
       "  </thead>\n",
       "  <tbody>\n",
       "    <tr>\n",
       "      <th>0</th>\n",
       "      <td>FUR-ADV-10000002</td>\n",
       "      <td>53.040001</td>\n",
       "      <td>20.129999</td>\n",
       "    </tr>\n",
       "    <tr>\n",
       "      <th>1</th>\n",
       "      <td>FUR-ADV-10000108</td>\n",
       "      <td>116.689996</td>\n",
       "      <td>1.120000</td>\n",
       "    </tr>\n",
       "    <tr>\n",
       "      <th>2</th>\n",
       "      <td>FUR-ADV-10000183</td>\n",
       "      <td>116.556001</td>\n",
       "      <td>1.122000</td>\n",
       "    </tr>\n",
       "    <tr>\n",
       "      <th>3</th>\n",
       "      <td>FUR-ADV-10000188</td>\n",
       "      <td>33.320000</td>\n",
       "      <td>10.320000</td>\n",
       "    </tr>\n",
       "    <tr>\n",
       "      <th>4</th>\n",
       "      <td>FUR-ADV-10000190</td>\n",
       "      <td>222.360001</td>\n",
       "      <td>104.459999</td>\n",
       "    </tr>\n",
       "  </tbody>\n",
       "</table>\n",
       "</div>"
      ],
      "text/plain": [
       "         Product ID  avg(normal_sales)  avg(normal_profit)\n",
       "0  FUR-ADV-10000002          53.040001           20.129999\n",
       "1  FUR-ADV-10000108         116.689996            1.120000\n",
       "2  FUR-ADV-10000183         116.556001            1.122000\n",
       "3  FUR-ADV-10000188          33.320000           10.320000\n",
       "4  FUR-ADV-10000190         222.360001          104.459999"
      ]
     },
     "execution_count": 16,
     "metadata": {},
     "output_type": "execute_result"
    }
   ],
   "source": [
    "normal_orders = pd.read_csv('Result_18.csv')\n",
    "normal_orders.rename(columns={'avg(Sales)':'avg(normal_sales)', 'avg(Profit)':'avg(normal_profit)'}, inplace=True)\n",
    "normal_orders.head()"
   ]
  },
  {
   "cell_type": "code",
   "execution_count": 17,
   "metadata": {},
   "outputs": [
    {
     "data": {
      "text/html": [
       "<div>\n",
       "<style scoped>\n",
       "    .dataframe tbody tr th:only-of-type {\n",
       "        vertical-align: middle;\n",
       "    }\n",
       "\n",
       "    .dataframe tbody tr th {\n",
       "        vertical-align: top;\n",
       "    }\n",
       "\n",
       "    .dataframe thead th {\n",
       "        text-align: right;\n",
       "    }\n",
       "</style>\n",
       "<table border=\"1\" class=\"dataframe\">\n",
       "  <thead>\n",
       "    <tr style=\"text-align: right;\">\n",
       "      <th></th>\n",
       "      <th>Product ID</th>\n",
       "      <th>avg(discounted_sales)</th>\n",
       "      <th>avg(discounted_profit)</th>\n",
       "      <th>avg(normal_sales)</th>\n",
       "      <th>avg(normal_profit)</th>\n",
       "    </tr>\n",
       "  </thead>\n",
       "  <tbody>\n",
       "    <tr>\n",
       "      <th>0</th>\n",
       "      <td>FUR-ADV-10000183</td>\n",
       "      <td>130.683998</td>\n",
       "      <td>-219.115997</td>\n",
       "      <td>116.556001</td>\n",
       "      <td>1.122000</td>\n",
       "    </tr>\n",
       "    <tr>\n",
       "      <th>1</th>\n",
       "      <td>FUR-ADV-10000188</td>\n",
       "      <td>12.495000</td>\n",
       "      <td>-13.380000</td>\n",
       "      <td>33.320000</td>\n",
       "      <td>10.320000</td>\n",
       "    </tr>\n",
       "    <tr>\n",
       "      <th>2</th>\n",
       "      <td>FUR-ADV-10001283</td>\n",
       "      <td>66.671997</td>\n",
       "      <td>-111.167999</td>\n",
       "      <td>111.120003</td>\n",
       "      <td>22.200001</td>\n",
       "    </tr>\n",
       "    <tr>\n",
       "      <th>3</th>\n",
       "      <td>FUR-ADV-10001659</td>\n",
       "      <td>10.260000</td>\n",
       "      <td>-15.780000</td>\n",
       "      <td>27.360001</td>\n",
       "      <td>6.528000</td>\n",
       "    </tr>\n",
       "    <tr>\n",
       "      <th>4</th>\n",
       "      <td>FUR-ADV-10001855</td>\n",
       "      <td>10.548000</td>\n",
       "      <td>-8.712000</td>\n",
       "      <td>26.370001</td>\n",
       "      <td>7.110000</td>\n",
       "    </tr>\n",
       "  </tbody>\n",
       "</table>\n",
       "</div>"
      ],
      "text/plain": [
       "         Product ID  avg(discounted_sales)  avg(discounted_profit)  \\\n",
       "0  FUR-ADV-10000183             130.683998             -219.115997   \n",
       "1  FUR-ADV-10000188              12.495000              -13.380000   \n",
       "2  FUR-ADV-10001283              66.671997             -111.167999   \n",
       "3  FUR-ADV-10001659              10.260000              -15.780000   \n",
       "4  FUR-ADV-10001855              10.548000               -8.712000   \n",
       "\n",
       "   avg(normal_sales)  avg(normal_profit)  \n",
       "0         116.556001            1.122000  \n",
       "1          33.320000           10.320000  \n",
       "2         111.120003           22.200001  \n",
       "3          27.360001            6.528000  \n",
       "4          26.370001            7.110000  "
      ]
     },
     "execution_count": 17,
     "metadata": {},
     "output_type": "execute_result"
    }
   ],
   "source": [
    "complete_orders = pd.DataFrame()\n",
    "complete_orders = pd.merge(discounted_orders, normal_orders, on='Product ID', how='outer')\n",
    "complete_orders.head()"
   ]
  },
  {
   "cell_type": "code",
   "execution_count": 21,
   "metadata": {},
   "outputs": [
    {
     "name": "stdout",
     "output_type": "stream",
     "text": [
      "Ttest_indResult(statistic=-11.928348534003032, pvalue=1.2436992087424575e-32)\n"
     ]
    }
   ],
   "source": [
    "test = stats.ttest_ind(complete_orders.dropna()['avg(discounted_sales)'], complete_orders.dropna()['avg(normal_sales)'])\n",
    "print(test)"
   ]
  }
 ],
 "metadata": {
  "kernelspec": {
   "display_name": "jupyter",
   "language": "python",
   "name": "jupyter"
  },
  "language_info": {
   "codemirror_mode": {
    "name": "ipython",
    "version": 3
   },
   "file_extension": ".py",
   "mimetype": "text/x-python",
   "name": "python",
   "nbconvert_exporter": "python",
   "pygments_lexer": "ipython3",
   "version": "3.8.2"
  },
  "orig_nbformat": 4
 },
 "nbformat": 4,
 "nbformat_minor": 2
}
